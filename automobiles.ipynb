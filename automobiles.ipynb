{
  "nbformat": 4,
  "nbformat_minor": 0,
  "metadata": {
    "colab": {
      "name": "automobiles",
      "provenance": [],
      "collapsed_sections": [],
      "mount_file_id": "1wMOdQotL6HJF2_hnD7sQguWZimNDhfNF",
      "authorship_tag": "ABX9TyO9iQBXg5+qmreYrmxqkOIm",
      "include_colab_link": true
    },
    "kernelspec": {
      "name": "python3",
      "display_name": "Python 3"
    },
    "language_info": {
      "name": "python"
    },
    "accelerator": "GPU",
    "widgets": {
      "application/vnd.jupyter.widget-state+json": {
        "c46aa596a0774e258b3b1d8386b93153": {
          "model_module": "@jupyter-widgets/controls",
          "model_name": "HBoxModel",
          "state": {
            "_view_name": "HBoxView",
            "_dom_classes": [],
            "_model_name": "HBoxModel",
            "_view_module": "@jupyter-widgets/controls",
            "_model_module_version": "1.5.0",
            "_view_count": null,
            "_view_module_version": "1.5.0",
            "box_style": "",
            "layout": "IPY_MODEL_5b77a6994fe24a9daa478569d37527cf",
            "_model_module": "@jupyter-widgets/controls",
            "children": [
              "IPY_MODEL_0fe1879237764411a1e30c30649a7ae5",
              "IPY_MODEL_0303180e8ed54c42b76e7cd7f0494942"
            ]
          }
        },
        "5b77a6994fe24a9daa478569d37527cf": {
          "model_module": "@jupyter-widgets/base",
          "model_name": "LayoutModel",
          "state": {
            "_view_name": "LayoutView",
            "grid_template_rows": null,
            "right": null,
            "justify_content": null,
            "_view_module": "@jupyter-widgets/base",
            "overflow": null,
            "_model_module_version": "1.2.0",
            "_view_count": null,
            "flex_flow": null,
            "width": null,
            "min_width": null,
            "border": null,
            "align_items": null,
            "bottom": null,
            "_model_module": "@jupyter-widgets/base",
            "top": null,
            "grid_column": null,
            "overflow_y": null,
            "overflow_x": null,
            "grid_auto_flow": null,
            "grid_area": null,
            "grid_template_columns": null,
            "flex": null,
            "_model_name": "LayoutModel",
            "justify_items": null,
            "grid_row": null,
            "max_height": null,
            "align_content": null,
            "visibility": null,
            "align_self": null,
            "height": null,
            "min_height": null,
            "padding": null,
            "grid_auto_rows": null,
            "grid_gap": null,
            "max_width": null,
            "order": null,
            "_view_module_version": "1.2.0",
            "grid_template_areas": null,
            "object_position": null,
            "object_fit": null,
            "grid_auto_columns": null,
            "margin": null,
            "display": null,
            "left": null
          }
        },
        "0fe1879237764411a1e30c30649a7ae5": {
          "model_module": "@jupyter-widgets/controls",
          "model_name": "FloatProgressModel",
          "state": {
            "_view_name": "ProgressView",
            "style": "IPY_MODEL_7d6765f4a7c0431099ec1e7efc866338",
            "_dom_classes": [],
            "description": "100%",
            "_model_name": "FloatProgressModel",
            "bar_style": "success",
            "max": 100,
            "_view_module": "@jupyter-widgets/controls",
            "_model_module_version": "1.5.0",
            "value": 100,
            "_view_count": null,
            "_view_module_version": "1.5.0",
            "orientation": "horizontal",
            "min": 0,
            "description_tooltip": null,
            "_model_module": "@jupyter-widgets/controls",
            "layout": "IPY_MODEL_3bd53b8728144c91a93f8e01f2954eb0"
          }
        },
        "0303180e8ed54c42b76e7cd7f0494942": {
          "model_module": "@jupyter-widgets/controls",
          "model_name": "HTMLModel",
          "state": {
            "_view_name": "HTMLView",
            "style": "IPY_MODEL_02a0ab3c3c7a4b478173344be2adc282",
            "_dom_classes": [],
            "description": "",
            "_model_name": "HTMLModel",
            "placeholder": "​",
            "_view_module": "@jupyter-widgets/controls",
            "_model_module_version": "1.5.0",
            "value": " 100/100 [03:22&lt;00:00,  2.02s/it]",
            "_view_count": null,
            "_view_module_version": "1.5.0",
            "description_tooltip": null,
            "_model_module": "@jupyter-widgets/controls",
            "layout": "IPY_MODEL_dddc3edb2b37481a9fe99c5739ae37ba"
          }
        },
        "7d6765f4a7c0431099ec1e7efc866338": {
          "model_module": "@jupyter-widgets/controls",
          "model_name": "ProgressStyleModel",
          "state": {
            "_view_name": "StyleView",
            "_model_name": "ProgressStyleModel",
            "description_width": "initial",
            "_view_module": "@jupyter-widgets/base",
            "_model_module_version": "1.5.0",
            "_view_count": null,
            "_view_module_version": "1.2.0",
            "bar_color": null,
            "_model_module": "@jupyter-widgets/controls"
          }
        },
        "3bd53b8728144c91a93f8e01f2954eb0": {
          "model_module": "@jupyter-widgets/base",
          "model_name": "LayoutModel",
          "state": {
            "_view_name": "LayoutView",
            "grid_template_rows": null,
            "right": null,
            "justify_content": null,
            "_view_module": "@jupyter-widgets/base",
            "overflow": null,
            "_model_module_version": "1.2.0",
            "_view_count": null,
            "flex_flow": null,
            "width": null,
            "min_width": null,
            "border": null,
            "align_items": null,
            "bottom": null,
            "_model_module": "@jupyter-widgets/base",
            "top": null,
            "grid_column": null,
            "overflow_y": null,
            "overflow_x": null,
            "grid_auto_flow": null,
            "grid_area": null,
            "grid_template_columns": null,
            "flex": null,
            "_model_name": "LayoutModel",
            "justify_items": null,
            "grid_row": null,
            "max_height": null,
            "align_content": null,
            "visibility": null,
            "align_self": null,
            "height": null,
            "min_height": null,
            "padding": null,
            "grid_auto_rows": null,
            "grid_gap": null,
            "max_width": null,
            "order": null,
            "_view_module_version": "1.2.0",
            "grid_template_areas": null,
            "object_position": null,
            "object_fit": null,
            "grid_auto_columns": null,
            "margin": null,
            "display": null,
            "left": null
          }
        },
        "02a0ab3c3c7a4b478173344be2adc282": {
          "model_module": "@jupyter-widgets/controls",
          "model_name": "DescriptionStyleModel",
          "state": {
            "_view_name": "StyleView",
            "_model_name": "DescriptionStyleModel",
            "description_width": "",
            "_view_module": "@jupyter-widgets/base",
            "_model_module_version": "1.5.0",
            "_view_count": null,
            "_view_module_version": "1.2.0",
            "_model_module": "@jupyter-widgets/controls"
          }
        },
        "dddc3edb2b37481a9fe99c5739ae37ba": {
          "model_module": "@jupyter-widgets/base",
          "model_name": "LayoutModel",
          "state": {
            "_view_name": "LayoutView",
            "grid_template_rows": null,
            "right": null,
            "justify_content": null,
            "_view_module": "@jupyter-widgets/base",
            "overflow": null,
            "_model_module_version": "1.2.0",
            "_view_count": null,
            "flex_flow": null,
            "width": null,
            "min_width": null,
            "border": null,
            "align_items": null,
            "bottom": null,
            "_model_module": "@jupyter-widgets/base",
            "top": null,
            "grid_column": null,
            "overflow_y": null,
            "overflow_x": null,
            "grid_auto_flow": null,
            "grid_area": null,
            "grid_template_columns": null,
            "flex": null,
            "_model_name": "LayoutModel",
            "justify_items": null,
            "grid_row": null,
            "max_height": null,
            "align_content": null,
            "visibility": null,
            "align_self": null,
            "height": null,
            "min_height": null,
            "padding": null,
            "grid_auto_rows": null,
            "grid_gap": null,
            "max_width": null,
            "order": null,
            "_view_module_version": "1.2.0",
            "grid_template_areas": null,
            "object_position": null,
            "object_fit": null,
            "grid_auto_columns": null,
            "margin": null,
            "display": null,
            "left": null
          }
        }
      }
    }
  },
  "cells": [
    {
      "cell_type": "markdown",
      "metadata": {
        "id": "view-in-github",
        "colab_type": "text"
      },
      "source": [
        "<a href=\"https://colab.research.google.com/github/amandugar/auto-mobiles/blob/main/automobiles.ipynb\" target=\"_parent\"><img src=\"https://colab.research.google.com/assets/colab-badge.svg\" alt=\"Open In Colab\"/></a>"
      ]
    },
    {
      "cell_type": "code",
      "metadata": {
        "colab": {
          "base_uri": "https://localhost:8080/"
        },
        "id": "e5gvNhYddroU",
        "outputId": "bd67dbe5-5bb5-4617-9639-1b57e9076815"
      },
      "source": [
        "!pip install torch-lr-finder\n",
        "import os"
      ],
      "execution_count": 1,
      "outputs": [
        {
          "output_type": "stream",
          "text": [
            "Collecting torch-lr-finder\n",
            "  Downloading https://files.pythonhosted.org/packages/ea/51/1a869067989a0fdaf18e49f0ee3aebfcb63470525245aac7dc390cfc676a/torch_lr_finder-0.2.1-py3-none-any.whl\n",
            "Requirement already satisfied: packaging in /usr/local/lib/python3.7/dist-packages (from torch-lr-finder) (20.9)\n",
            "Requirement already satisfied: tqdm in /usr/local/lib/python3.7/dist-packages (from torch-lr-finder) (4.41.1)\n",
            "Requirement already satisfied: matplotlib in /usr/local/lib/python3.7/dist-packages (from torch-lr-finder) (3.2.2)\n",
            "Requirement already satisfied: torch>=0.4.1 in /usr/local/lib/python3.7/dist-packages (from torch-lr-finder) (1.9.0+cu102)\n",
            "Requirement already satisfied: numpy in /usr/local/lib/python3.7/dist-packages (from torch-lr-finder) (1.19.5)\n",
            "Requirement already satisfied: pyparsing>=2.0.2 in /usr/local/lib/python3.7/dist-packages (from packaging->torch-lr-finder) (2.4.7)\n",
            "Requirement already satisfied: python-dateutil>=2.1 in /usr/local/lib/python3.7/dist-packages (from matplotlib->torch-lr-finder) (2.8.1)\n",
            "Requirement already satisfied: cycler>=0.10 in /usr/local/lib/python3.7/dist-packages (from matplotlib->torch-lr-finder) (0.10.0)\n",
            "Requirement already satisfied: kiwisolver>=1.0.1 in /usr/local/lib/python3.7/dist-packages (from matplotlib->torch-lr-finder) (1.3.1)\n",
            "Requirement already satisfied: typing-extensions in /usr/local/lib/python3.7/dist-packages (from torch>=0.4.1->torch-lr-finder) (3.7.4.3)\n",
            "Requirement already satisfied: six>=1.5 in /usr/local/lib/python3.7/dist-packages (from python-dateutil>=2.1->matplotlib->torch-lr-finder) (1.15.0)\n",
            "Installing collected packages: torch-lr-finder\n",
            "Successfully installed torch-lr-finder-0.2.1\n"
          ],
          "name": "stdout"
        }
      ]
    },
    {
      "cell_type": "code",
      "metadata": {
        "colab": {
          "base_uri": "https://localhost:8080/"
        },
        "id": "kWd7eeojfkqv",
        "outputId": "1ccdd5d0-206f-40cc-ad66-db47bafebcb7"
      },
      "source": [
        "from google.colab import drive\n",
        "drive.mount('/content/drive')"
      ],
      "execution_count": 2,
      "outputs": [
        {
          "output_type": "stream",
          "text": [
            "Drive already mounted at /content/drive; to attempt to forcibly remount, call drive.mount(\"/content/drive\", force_remount=True).\n"
          ],
          "name": "stdout"
        }
      ]
    },
    {
      "cell_type": "code",
      "metadata": {
        "id": "fnUmHgQWfHX_"
      },
      "source": [
        "if(os.path.isdir('/content/final-dataset-automobiles/')):\n",
        "  print ('exist')\n",
        "else:\n",
        "  !cp '/content/drive/MyDrive/final-dataset-automobiles.zip' '/content'\n"
      ],
      "execution_count": 3,
      "outputs": []
    },
    {
      "cell_type": "code",
      "metadata": {
        "id": "cmJSkBLif6dR"
      },
      "source": [
        "if(os.path.isdir('/content/final-dataset-automobiles/')):\n",
        "  print('exist')\n",
        "else:\n",
        "  !unzip final-dataset-automobiles.zip"
      ],
      "execution_count": null,
      "outputs": []
    },
    {
      "cell_type": "code",
      "metadata": {
        "id": "sgrCbGvogEBz"
      },
      "source": [
        "!rm '/content/final-dataset-automobiles.zip'"
      ],
      "execution_count": 5,
      "outputs": []
    },
    {
      "cell_type": "code",
      "metadata": {
        "id": "-HQ-IUP2gPnx"
      },
      "source": [
        "import numpy as np\n",
        "import torch\n",
        "from torch_lr_finder import LRFinder\n",
        "import torch.nn as nn\n",
        "import torch.nn.functional as F\n",
        "from PIL import Image, ImageDraw\n",
        "from torchvision import datasets, transforms, models\n",
        "from torch.utils.data import DataLoader\n",
        "import matplotlib.pyplot as plt\n",
        "import matplotlib.image as mpimage\n",
        "import os\n",
        "import cv2\n",
        "import pathlib\n",
        "import torch.optim as optim"
      ],
      "execution_count": 6,
      "outputs": []
    },
    {
      "cell_type": "code",
      "metadata": {
        "id": "Jh8uEkH9hHc9"
      },
      "source": [
        "path = \"final-dataset-automobiles\"\n",
        "for folder in os.listdir(path):\n",
        "  for img_file in os.listdir(os.path.join(path,folder)):\n",
        "    img_file = os.path.join(path,folder,img_file)\n",
        "    try:\n",
        "      img = Image.open(img_file)\n",
        "      if img.mode!='RGB':\n",
        "        os.remove(img_file)\n",
        "        print(img_file)\n",
        "    except:\n",
        "      print(img_file)\n",
        "      os.remove(img_file)"
      ],
      "execution_count": 7,
      "outputs": []
    },
    {
      "cell_type": "code",
      "metadata": {
        "id": "CbkzPUQqhN7k"
      },
      "source": [
        "transform = transforms.Compose([\n",
        "                                transforms.Resize(255),\n",
        "                                transforms.CenterCrop(224),\n",
        "                                transforms.ToTensor(),\n",
        "                                transforms.Normalize([0.5],[0.5])\n",
        "                              ])"
      ],
      "execution_count": 8,
      "outputs": []
    },
    {
      "cell_type": "code",
      "metadata": {
        "colab": {
          "base_uri": "https://localhost:8080/"
        },
        "id": "BArcAY9EhWz-",
        "outputId": "d3063638-a3d6-4add-d71f-0fbc5d2c4b7b"
      },
      "source": [
        "dataset = datasets.ImageFolder('final-dataset-automobiles',transform=transform)\n",
        "dataset_len = len(dataset)\n",
        "dataset_len"
      ],
      "execution_count": 9,
      "outputs": [
        {
          "output_type": "execute_result",
          "data": {
            "text/plain": [
              "5121"
            ]
          },
          "metadata": {
            "tags": []
          },
          "execution_count": 9
        }
      ]
    },
    {
      "cell_type": "code",
      "metadata": {
        "colab": {
          "base_uri": "https://localhost:8080/"
        },
        "id": "n1Z2_J6whwdi",
        "outputId": "11d4e49c-d59f-43dc-bd4b-7ecd77579522"
      },
      "source": [
        "train_len,test_len = dataset_len - 1000,1000\n",
        "train_set,test_set = torch.utils.data.random_split(dataset,[train_len,test_len],generator=torch.manual_seed(30))\n",
        "batch_size = 300\n",
        "train_set = DataLoader(dataset=train_set,shuffle=True,batch_size=batch_size)\n",
        "test_set = DataLoader(dataset=test_set,shuffle=True,batch_size=batch_size)\n",
        "\n",
        "device = torch.device('cuda' if torch.cuda.is_available() else 'cpu')\n",
        "print('Using Device: ', device)"
      ],
      "execution_count": 25,
      "outputs": [
        {
          "output_type": "stream",
          "text": [
            "Using Device:  cuda\n"
          ],
          "name": "stdout"
        }
      ]
    },
    {
      "cell_type": "code",
      "metadata": {
        "id": "FG8dpaPnxmZ8"
      },
      "source": [
        "root=pathlib.Path('/content/final-dataset-automobiles')\n",
        "classes=sorted([j.name.split('/')[-1] for j in root.iterdir()])"
      ],
      "execution_count": 26,
      "outputs": []
    },
    {
      "cell_type": "code",
      "metadata": {
        "colab": {
          "base_uri": "https://localhost:8080/"
        },
        "id": "8TqtilBBx6Dj",
        "outputId": "719f5a89-97d2-4af0-ebd1-8943c25a6198"
      },
      "source": [
        "classes"
      ],
      "execution_count": 27,
      "outputs": [
        {
          "output_type": "execute_result",
          "data": {
            "text/plain": [
              "['2nd Row Left Side Seat Armrest',\n",
              " '2nd Row Right Side Seat Armrest',\n",
              " '2nd Row Seat Belt (L)',\n",
              " '2nd Row Seat Belt (R)',\n",
              " '2nd Row Seat Belt Buckle Right',\n",
              " 'AUX - USB Socket',\n",
              " 'Accelerator Pedal',\n",
              " 'Accessory Socket (Centre Console)',\n",
              " 'Accessory Socket (Dash Board)',\n",
              " 'Accessory Socket (Inside Armrest)',\n",
              " 'Accessory socket location (luggage compartment)',\n",
              " 'Air Bag Light and Dashboard',\n",
              " 'Air Cleaner',\n",
              " 'Airbag Label',\n",
              " 'Audio System',\n",
              " 'Bill - Coin Holder',\n",
              " 'Brake - Clutch Fluid Reservoir',\n",
              " 'Brake Pedal',\n",
              " 'Centre Outlet (L)',\n",
              " 'Centre Outlet (R)',\n",
              " 'Child-Proof Locks (Rear L)',\n",
              " 'Child-Proof Locks (Rear R)',\n",
              " 'Coolant Reservoir',\n",
              " 'Courtesy Lights (Duplicate)',\n",
              " 'Door Locks (Driver side - O)',\n",
              " 'Door Locks (Front Passenger side - I)',\n",
              " 'Door Locks (Front Passenger side - O)',\n",
              " 'Door Locks (Rear Left)',\n",
              " 'Door Locks (Rear Right)',\n",
              " 'Driver Door Switch',\n",
              " 'Driver Side Defroster Outlet',\n",
              " 'Driver Side Outlet',\n",
              " 'Driver Side Seat Belt Buckle',\n",
              " 'Engine Hood Latch',\n",
              " 'Engine Oil Filler Cap',\n",
              " 'Front Dome Light',\n",
              " 'Second Row Seat Belt Buckle (Left)',\n",
              " 'Sound System']"
            ]
          },
          "metadata": {
            "tags": []
          },
          "execution_count": 27
        }
      ]
    },
    {
      "cell_type": "code",
      "metadata": {
        "id": "Uc_I_rbK9HLn"
      },
      "source": [
        ""
      ],
      "execution_count": 12,
      "outputs": []
    },
    {
      "cell_type": "code",
      "metadata": {
        "colab": {
          "base_uri": "https://localhost:8080/"
        },
        "id": "YKq6-rwox5st",
        "outputId": "3c3ae0a6-84c2-4dae-a552-1df6618807be"
      },
      "source": [
        "len(classes)"
      ],
      "execution_count": 28,
      "outputs": [
        {
          "output_type": "execute_result",
          "data": {
            "text/plain": [
              "38"
            ]
          },
          "metadata": {
            "tags": []
          },
          "execution_count": 28
        }
      ]
    },
    {
      "cell_type": "code",
      "metadata": {
        "id": "P0DPA0fciSh4"
      },
      "source": [
        "model = models.resnet18(pretrained=True)"
      ],
      "execution_count": 29,
      "outputs": []
    },
    {
      "cell_type": "code",
      "metadata": {
        "id": "sEv3GPH_icRE"
      },
      "source": [
        "for param in model.parameters(): \n",
        "  param.requires_grid = False \n",
        "  model.fc = torch.nn.Linear(in_features=512,out_features=38,bias=True) \n",
        "  model = model.to(device)"
      ],
      "execution_count": 30,
      "outputs": []
    },
    {
      "cell_type": "code",
      "metadata": {
        "id": "epuEqYaCikWT"
      },
      "source": [
        "criterion = nn.CrossEntropyLoss()\n",
        "optimizer = optim.Adamax(model.parameters(),lr=4.04e-04,weight_decay=10e-5)"
      ],
      "execution_count": 31,
      "outputs": []
    },
    {
      "cell_type": "code",
      "metadata": {
        "colab": {
          "base_uri": "https://localhost:8080/",
          "height": 386,
          "referenced_widgets": [
            "c46aa596a0774e258b3b1d8386b93153",
            "5b77a6994fe24a9daa478569d37527cf",
            "0fe1879237764411a1e30c30649a7ae5",
            "0303180e8ed54c42b76e7cd7f0494942",
            "7d6765f4a7c0431099ec1e7efc866338",
            "3bd53b8728144c91a93f8e01f2954eb0",
            "02a0ab3c3c7a4b478173344be2adc282",
            "dddc3edb2b37481a9fe99c5739ae37ba"
          ]
        },
        "id": "L9_JZ4RlislX",
        "outputId": "69ba66f5-69cd-434e-dc6d-47ee0429f4e9"
      },
      "source": [
        "lr_finder = LRFinder(model, optimizer, criterion, device=\"cuda\")\n",
        "lr_finder.range_test(train_set,start_lr=10e-5, end_lr=1, num_iter=100)\n",
        "lr_finder.plot() # to inspect the loss-learning rate graph\n",
        "lr_finder.reset()"
      ],
      "execution_count": 32,
      "outputs": [
        {
          "output_type": "display_data",
          "data": {
            "application/vnd.jupyter.widget-view+json": {
              "model_id": "c46aa596a0774e258b3b1d8386b93153",
              "version_minor": 0,
              "version_major": 2
            },
            "text/plain": [
              "HBox(children=(FloatProgress(value=0.0), HTML(value='')))"
            ]
          },
          "metadata": {
            "tags": []
          }
        },
        {
          "output_type": "stream",
          "text": [
            "\n",
            "Learning rate search finished. See the graph with {finder_name}.plot()\n",
            "LR suggestion: steepest gradient\n",
            "Suggested LR: 4.04E-04\n"
          ],
          "name": "stdout"
        },
        {
          "output_type": "display_data",
          "data": {
            "image/png": "[encoded data removed]",
            "text/plain": [
              "<Figure size 432x288 with 1 Axes>"
            ]
          },
          "metadata": {
            "tags": [],
            "needs_background": "light"
          }
        }
      ]
    },
    {
      "cell_type": "code",
      "metadata": {
        "colab": {
          "base_uri": "https://localhost:8080/"
        },
        "id": "LIEWj2dzz_iX",
        "outputId": "db8292bf-e2a1-46dd-c74c-131105810ed1"
      },
      "source": [
        "model.train()\n",
        "for epoch in range(10):\n",
        "  total_correct = 0.0\n",
        "  running_loss = 0.0\n",
        "  for i,(inputs,labels) in enumerate(train_set):\n",
        "    inputs,labels = inputs.to(device),labels.to(device)\n",
        "    output = model(inputs)\n",
        "    output_idx = torch.argmax(output,dim=1)\n",
        "    total_correct+=(labels == output_idx).sum().item()\n",
        "    optimizer.zero_grad()\n",
        "    loss = criterion(output,labels)\n",
        "    running_loss+= loss.item()*inputs.size(0)\n",
        "    loss.backward()\n",
        "    optimizer.step()\n",
        "  print(f'Epoch: {epoch} Loss = {running_loss/train_len} Accuracy:{(total_correct/train_len)*100}%')"
      ],
      "execution_count": 33,
      "outputs": [
        {
          "output_type": "stream",
          "text": [
            "Epoch: 0 Loss = 1.455906404609444 Accuracy:70.78379034214997%\n",
            "Epoch: 1 Loss = 0.23547055138904646 Accuracy:95.7534578985683%\n",
            "Epoch: 2 Loss = 0.10630757241421492 Accuracy:97.11235137102645%\n",
            "Epoch: 3 Loss = 0.06556731345684776 Accuracy:98.03445765590875%\n",
            "Epoch: 4 Loss = 0.05082217125717919 Accuracy:98.25285124969668%\n",
            "Epoch: 5 Loss = 0.04323971793652159 Accuracy:98.32564911429264%\n",
            "Epoch: 6 Loss = 0.040115529784760524 Accuracy:98.34991506915797%\n",
            "Epoch: 7 Loss = 0.037221301896635466 Accuracy:98.15578743023538%\n",
            "Epoch: 8 Loss = 0.03525298433475516 Accuracy:98.1800533851007%\n",
            "Epoch: 9 Loss = 0.034171793108150175 Accuracy:98.32564911429264%\n"
          ],
          "name": "stdout"
        }
      ]
    },
    {
      "cell_type": "code",
      "metadata": {
        "colab": {
          "base_uri": "https://localhost:8080/"
        },
        "id": "woRotZQV3dww",
        "outputId": "ac036ee8-caa5-4343-ea5f-20cd49e4f1d9"
      },
      "source": [
        "with torch.no_grad():\n",
        "  model.eval()\n",
        "  total_loss = 0.0\n",
        "  total_correct = 0.0\n",
        "  for inputs,labels in test_set:\n",
        "    labels = labels.to(device)\n",
        "    outputs = model(inputs.to(device))\n",
        "    loss = criterion(outputs,labels)\n",
        "    total_loss = loss.item() * inputs.size(0)\n",
        "    output_idx = torch.argmax(outputs,dim=1)\n",
        "    total_correct+=sum(labels == output_idx)\n",
        "print(f'Loss = {running_loss/test_len} Accuracy:{(total_correct/test_len)*100}%')"
      ],
      "execution_count": 34,
      "outputs": [
        {
          "output_type": "stream",
          "text": [
            "Loss = 0.14082195939868689 Accuracy:95.20000457763672%\n"
          ],
          "name": "stdout"
        }
      ]
    },
    {
      "cell_type": "code",
      "metadata": {
        "id": "tHcexiSq9It-"
      },
      "source": [
        "torch.save(model.state_dict(),'auto.pt')"
      ],
      "execution_count": 35,
      "outputs": []
    },
    {
      "cell_type": "code",
      "metadata": {
        "colab": {
          "base_uri": "https://localhost:8080/"
        },
        "id": "PoUUOc_n9PPu",
        "outputId": "98aee077-c6f9-499b-c9a4-6694fc75834a"
      },
      "source": [
        "import numpy as np\n",
        "import torch\n",
        "from torchvision import models,transforms\n",
        "import matplotlib.pyplot as plt\n",
        "import os\n",
        "import cv2\n",
        "from PIL import Image\n",
        "labels = ['2nd Row Left Side Seat Armrest','2nd Row Right Side Seat Armrest','2nd Row Seat Belt (L)',\n",
        " '2nd Row Seat Belt (R)',\n",
        " '2nd Row Seat Belt Buckle Right',\n",
        " 'AUX - USB Socket',\n",
        " 'Accelerator Pedal',\n",
        " 'Accessory Socket (Centre Console)',\n",
        " 'Accessory Socket (Dash Board)',\n",
        " 'Accessory Socket (Inside Armrest)',\n",
        " 'Accessory socket location (luggage compartment)',\n",
        " 'Air Bag Light and Dashboard',\n",
        " 'Air Cleaner',\n",
        " 'Airbag Label',\n",
        " 'Audio System',\n",
        " 'Bill - Coin Holder',\n",
        " 'Brake - Clutch Fluid Reservoir',\n",
        " 'Brake Pedal',\n",
        " 'Centre Outlet (L)',\n",
        " 'Centre Outlet (R)',\n",
        " 'Child-Proof Locks (Rear L)',\n",
        " 'Child-Proof Locks (Rear R)',\n",
        " 'Coolant Reservoir',\n",
        " 'Courtesy Lights (Duplicate)',\n",
        " 'Door Locks (Driver side - O)',\n",
        " 'Door Locks (Front Passenger side - I)',\n",
        " 'Door Locks (Front Passenger side - O)',\n",
        " 'Door Locks (Rear Left)',\n",
        " 'Door Locks (Rear Right)',\n",
        " 'Driver Door Switch',\n",
        " 'Driver Side Defroster Outlet',\n",
        " 'Driver Side Outlet',\n",
        " 'Driver Side Seat Belt Buckle',\n",
        " 'Engine Hood Latch',\n",
        " 'Engine Oil Filler Cap',\n",
        " 'Front Dome Light',\n",
        " 'Second Row Seat Belt Buckle (Left)',\n",
        " 'Sound System']\n",
        "model_path = 'auto.pt'\n",
        "img_file_path = '/content/final-dataset-automobiles/Door Locks (Rear Left)/20210626_123914-resized.jpg'\n",
        "transform = transforms.Compose([transforms.CenterCrop(224),transforms.ToTensor()])\n",
        "model = models.resnet18()\n",
        "print (len(labels))\n",
        "model.fc = torch.nn.Linear(in_features=512,out_features=len(labels),bias=True)\n",
        "model.load_state_dict(torch.load(model_path,map_location=torch.device('cpu')))\n",
        "model.eval()\n",
        "img = Image.open(img_file_path)\n",
        "img = transform(img)\n",
        "prediction = model(img.unsqueeze(0))\n",
        "print(prediction)\n",
        "result = torch.argmax(prediction)\n",
        "print(result)\n",
        "print(f'This is a {labels[result]}')"
      ],
      "execution_count": 36,
      "outputs": [
        {
          "output_type": "stream",
          "text": [
            "38\n",
            "tensor([[-1.4158,  0.6523, -1.0774,  1.0023, -0.0994,  1.9230,  0.1631, -1.0880,\n",
            "          1.9537, -0.4976, -0.1885, -0.3087, -0.3801, -1.2450,  0.0781,  0.9860,\n",
            "         -0.8684, -2.0925,  0.8802, -1.5492,  0.8984, -0.3179, -0.9037, -0.3464,\n",
            "         -0.1979, -0.6543, -0.7859,  5.6532,  0.5156, -0.9196, -1.5577, -0.4137,\n",
            "         -1.0134, -1.1208, -0.8911,  0.1191, -0.3959, -0.7972]],\n",
            "       grad_fn=<AddmmBackward>)\n",
            "tensor(27)\n",
            "This is a Door Locks (Rear Left)\n"
          ],
          "name": "stdout"
        }
      ]
    }
  ]
}
