{
  "nbformat": 4,
  "nbformat_minor": 0,
  "metadata": {
    "colab": {
      "name": "automobiles",
      "provenance": [],
      "collapsed_sections": [],
      "include_colab_link": true
    },
    "kernelspec": {
      "display_name": "Python 3",
      "name": "python3"
    },
    "language_info": {
      "name": "python"
    },
    "widgets": {
      "application/vnd.jupyter.widget-state+json": {
        "88266577d0294360875106510ea669f3": {
          "model_module": "@jupyter-widgets/controls",
          "model_name": "HBoxModel",
          "model_module_version": "1.5.0",
          "state": {
            "_view_name": "HBoxView",
            "_dom_classes": [],
            "_model_name": "HBoxModel",
            "_view_module": "@jupyter-widgets/controls",
            "_model_module_version": "1.5.0",
            "_view_count": null,
            "_view_module_version": "1.5.0",
            "box_style": "",
            "layout": "IPY_MODEL_70911ac3102c4f989b01d96c1131a75e",
            "_model_module": "@jupyter-widgets/controls",
            "children": [
              "IPY_MODEL_38d6a74cc4304f1e9f8295ddb2153708",
              "IPY_MODEL_323bd1ebc1eb4a5b8ba8d9061200da53"
            ]
          }
        },
        "70911ac3102c4f989b01d96c1131a75e": {
          "model_module": "@jupyter-widgets/base",
          "model_name": "LayoutModel",
          "model_module_version": "1.2.0",
          "state": {
            "_view_name": "LayoutView",
            "grid_template_rows": null,
            "right": null,
            "justify_content": null,
            "_view_module": "@jupyter-widgets/base",
            "overflow": null,
            "_model_module_version": "1.2.0",
            "_view_count": null,
            "flex_flow": null,
            "width": null,
            "min_width": null,
            "border": null,
            "align_items": null,
            "bottom": null,
            "_model_module": "@jupyter-widgets/base",
            "top": null,
            "grid_column": null,
            "overflow_y": null,
            "overflow_x": null,
            "grid_auto_flow": null,
            "grid_area": null,
            "grid_template_columns": null,
            "flex": null,
            "_model_name": "LayoutModel",
            "justify_items": null,
            "grid_row": null,
            "max_height": null,
            "align_content": null,
            "visibility": null,
            "align_self": null,
            "height": null,
            "min_height": null,
            "padding": null,
            "grid_auto_rows": null,
            "grid_gap": null,
            "max_width": null,
            "order": null,
            "_view_module_version": "1.2.0",
            "grid_template_areas": null,
            "object_position": null,
            "object_fit": null,
            "grid_auto_columns": null,
            "margin": null,
            "display": null,
            "left": null
          }
        },
        "38d6a74cc4304f1e9f8295ddb2153708": {
          "model_module": "@jupyter-widgets/controls",
          "model_name": "FloatProgressModel",
          "model_module_version": "1.5.0",
          "state": {
            "_view_name": "ProgressView",
            "style": "IPY_MODEL_03ae035ff5634f7a843f670a47f0f704",
            "_dom_classes": [],
            "description": " 11%",
            "_model_name": "FloatProgressModel",
            "bar_style": "danger",
            "max": 100,
            "_view_module": "@jupyter-widgets/controls",
            "_model_module_version": "1.5.0",
            "value": 11,
            "_view_count": null,
            "_view_module_version": "1.5.0",
            "orientation": "horizontal",
            "min": 0,
            "description_tooltip": null,
            "_model_module": "@jupyter-widgets/controls",
            "layout": "IPY_MODEL_853259b43a2b4da184974913bed531e0"
          }
        },
        "323bd1ebc1eb4a5b8ba8d9061200da53": {
          "model_module": "@jupyter-widgets/controls",
          "model_name": "HTMLModel",
          "model_module_version": "1.5.0",
          "state": {
            "_view_name": "HTMLView",
            "style": "IPY_MODEL_a330d21e002b4ee2968cbe9402425e7f",
            "_dom_classes": [],
            "description": "",
            "_model_name": "HTMLModel",
            "placeholder": "​",
            "_view_module": "@jupyter-widgets/controls",
            "_model_module_version": "1.5.0",
            "value": " 11/100 [00:02&lt;00:16,  5.41it/s]",
            "_view_count": null,
            "_view_module_version": "1.5.0",
            "description_tooltip": null,
            "_model_module": "@jupyter-widgets/controls",
            "layout": "IPY_MODEL_c10e6f3ab27e4c95ad8f36d3a230f3d6"
          }
        },
        "03ae035ff5634f7a843f670a47f0f704": {
          "model_module": "@jupyter-widgets/controls",
          "model_name": "ProgressStyleModel",
          "model_module_version": "1.5.0",
          "state": {
            "_view_name": "StyleView",
            "_model_name": "ProgressStyleModel",
            "description_width": "initial",
            "_view_module": "@jupyter-widgets/base",
            "_model_module_version": "1.5.0",
            "_view_count": null,
            "_view_module_version": "1.2.0",
            "bar_color": null,
            "_model_module": "@jupyter-widgets/controls"
          }
        },
        "853259b43a2b4da184974913bed531e0": {
          "model_module": "@jupyter-widgets/base",
          "model_name": "LayoutModel",
          "model_module_version": "1.2.0",
          "state": {
            "_view_name": "LayoutView",
            "grid_template_rows": null,
            "right": null,
            "justify_content": null,
            "_view_module": "@jupyter-widgets/base",
            "overflow": null,
            "_model_module_version": "1.2.0",
            "_view_count": null,
            "flex_flow": null,
            "width": null,
            "min_width": null,
            "border": null,
            "align_items": null,
            "bottom": null,
            "_model_module": "@jupyter-widgets/base",
            "top": null,
            "grid_column": null,
            "overflow_y": null,
            "overflow_x": null,
            "grid_auto_flow": null,
            "grid_area": null,
            "grid_template_columns": null,
            "flex": null,
            "_model_name": "LayoutModel",
            "justify_items": null,
            "grid_row": null,
            "max_height": null,
            "align_content": null,
            "visibility": null,
            "align_self": null,
            "height": null,
            "min_height": null,
            "padding": null,
            "grid_auto_rows": null,
            "grid_gap": null,
            "max_width": null,
            "order": null,
            "_view_module_version": "1.2.0",
            "grid_template_areas": null,
            "object_position": null,
            "object_fit": null,
            "grid_auto_columns": null,
            "margin": null,
            "display": null,
            "left": null
          }
        },
        "a330d21e002b4ee2968cbe9402425e7f": {
          "model_module": "@jupyter-widgets/controls",
          "model_name": "DescriptionStyleModel",
          "model_module_version": "1.5.0",
          "state": {
            "_view_name": "StyleView",
            "_model_name": "DescriptionStyleModel",
            "description_width": "",
            "_view_module": "@jupyter-widgets/base",
            "_model_module_version": "1.5.0",
            "_view_count": null,
            "_view_module_version": "1.2.0",
            "_model_module": "@jupyter-widgets/controls"
          }
        },
        "c10e6f3ab27e4c95ad8f36d3a230f3d6": {
          "model_module": "@jupyter-widgets/base",
          "model_name": "LayoutModel",
          "model_module_version": "1.2.0",
          "state": {
            "_view_name": "LayoutView",
            "grid_template_rows": null,
            "right": null,
            "justify_content": null,
            "_view_module": "@jupyter-widgets/base",
            "overflow": null,
            "_model_module_version": "1.2.0",
            "_view_count": null,
            "flex_flow": null,
            "width": null,
            "min_width": null,
            "border": null,
            "align_items": null,
            "bottom": null,
            "_model_module": "@jupyter-widgets/base",
            "top": null,
            "grid_column": null,
            "overflow_y": null,
            "overflow_x": null,
            "grid_auto_flow": null,
            "grid_area": null,
            "grid_template_columns": null,
            "flex": null,
            "_model_name": "LayoutModel",
            "justify_items": null,
            "grid_row": null,
            "max_height": null,
            "align_content": null,
            "visibility": null,
            "align_self": null,
            "height": null,
            "min_height": null,
            "padding": null,
            "grid_auto_rows": null,
            "grid_gap": null,
            "max_width": null,
            "order": null,
            "_view_module_version": "1.2.0",
            "grid_template_areas": null,
            "object_position": null,
            "object_fit": null,
            "grid_auto_columns": null,
            "margin": null,
            "display": null,
            "left": null
          }
        }
      }
    }
  },
  "cells": [
    {
      "cell_type": "markdown",
      "metadata": {
        "id": "view-in-github",
        "colab_type": "text"
      },
      "source": [
        "<a href=\"https://colab.research.google.com/github/amandugar/auto-mobiles/blob/main/automobiles.ipynb\" target=\"_parent\"><img src=\"https://colab.research.google.com/assets/colab-badge.svg\" alt=\"Open In Colab\"/></a>"
      ]
    },
    {
      "cell_type": "code",
      "metadata": {
        "colab": {
          "base_uri": "https://localhost:8080/"
        },
        "id": "e5gvNhYddroU",
        "outputId": "d3877cfd-eae2-4496-d4e8-8d887ca0f459"
      },
      "source": [
        "!pip install torch-lr-finder\n",
        "import os\n"
      ],
      "execution_count": null,
      "outputs": [
        {
          "output_type": "stream",
          "text": [
            "Collecting torch-lr-finder\n",
            "  Downloading torch_lr_finder-0.2.1-py3-none-any.whl (11 kB)\n",
            "Requirement already satisfied: numpy in /usr/local/lib/python3.7/dist-packages (from torch-lr-finder) (1.19.5)\n",
            "Requirement already satisfied: tqdm in /usr/local/lib/python3.7/dist-packages (from torch-lr-finder) (4.41.1)\n",
            "Requirement already satisfied: matplotlib in /usr/local/lib/python3.7/dist-packages (from torch-lr-finder) (3.2.2)\n",
            "Requirement already satisfied: torch>=0.4.1 in /usr/local/lib/python3.7/dist-packages (from torch-lr-finder) (1.9.0+cu102)\n",
            "Requirement already satisfied: packaging in /usr/local/lib/python3.7/dist-packages (from torch-lr-finder) (21.0)\n",
            "Requirement already satisfied: typing-extensions in /usr/local/lib/python3.7/dist-packages (from torch>=0.4.1->torch-lr-finder) (3.7.4.3)\n",
            "Requirement already satisfied: cycler>=0.10 in /usr/local/lib/python3.7/dist-packages (from matplotlib->torch-lr-finder) (0.10.0)\n",
            "Requirement already satisfied: python-dateutil>=2.1 in /usr/local/lib/python3.7/dist-packages (from matplotlib->torch-lr-finder) (2.8.1)\n",
            "Requirement already satisfied: kiwisolver>=1.0.1 in /usr/local/lib/python3.7/dist-packages (from matplotlib->torch-lr-finder) (1.3.1)\n",
            "Requirement already satisfied: pyparsing!=2.0.4,!=2.1.2,!=2.1.6,>=2.0.1 in /usr/local/lib/python3.7/dist-packages (from matplotlib->torch-lr-finder) (2.4.7)\n",
            "Requirement already satisfied: six in /usr/local/lib/python3.7/dist-packages (from cycler>=0.10->matplotlib->torch-lr-finder) (1.15.0)\n",
            "Installing collected packages: torch-lr-finder\n",
            "Successfully installed torch-lr-finder-0.2.1\n"
          ],
          "name": "stdout"
        }
      ]
    },
    {
      "cell_type": "code",
      "metadata": {
        "colab": {
          "base_uri": "https://localhost:8080/"
        },
        "id": "kWd7eeojfkqv",
        "outputId": "ef3ba3b3-050b-4167-ca9d-cdf8056f23f5"
      },
      "source": [
        "from google.colab import drive\n",
        "drive.mount('/content/drive')"
      ],
      "execution_count": null,
      "outputs": [
        {
          "output_type": "stream",
          "text": [
            "Drive already mounted at /content/drive; to attempt to forcibly remount, call drive.mount(\"/content/drive\", force_remount=True).\n"
          ],
          "name": "stdout"
        }
      ]
    },
    {
      "cell_type": "code",
      "metadata": {
        "id": "fnUmHgQWfHX_"
      },
      "source": [
        "if(os.path.isdir('/content/final-dataset-automobiles/')):\n",
        "  print ('exist')\n",
        "else:\n",
        "  !cp '/content/drive/MyDrive/final-dataset-automobiles.zip' '/content'\n"
      ],
      "execution_count": null,
      "outputs": []
    },
    {
      "cell_type": "code",
      "metadata": {
        "id": "cmJSkBLif6dR"
      },
      "source": [
        "if(os.path.isdir('/content/final-dataset-automobiles/')):\n",
        "  print('exist')\n",
        "else:\n",
        "  !unzip final-dataset-automobiles.zip"
      ],
      "execution_count": null,
      "outputs": []
    },
    {
      "cell_type": "code",
      "metadata": {
        "id": "sgrCbGvogEBz"
      },
      "source": [
        "!rm '/content/final-dataset-automobiles.zip'"
      ],
      "execution_count": null,
      "outputs": []
    },
    {
      "cell_type": "code",
      "metadata": {
        "id": "-HQ-IUP2gPnx"
      },
      "source": [
        "import numpy as np\n",
        "import torch\n",
        "from torch_lr_finder import LRFinder\n",
        "import torch.nn as nn\n",
        "import torch.nn.functional as F\n",
        "from PIL import Image, ImageDraw\n",
        "from torchvision import datasets, transforms, models\n",
        "from torch.utils.data import DataLoader,Dataset\n",
        "import matplotlib.pyplot as plt\n",
        "import matplotlib.image as mpimage\n",
        "import os\n",
        "import cv2\n",
        "import pathlib\n",
        "import torch.optim as optim"
      ],
      "execution_count": null,
      "outputs": []
    },
    {
      "cell_type": "code",
      "metadata": {
        "id": "vyH-46dHlFcg"
      },
      "source": [
        "!rm -rf '/content/final-dataset-automobiles/Air Bag Light and Dashboard'"
      ],
      "execution_count": null,
      "outputs": []
    },
    {
      "cell_type": "code",
      "metadata": {
        "id": "Jh8uEkH9hHc9"
      },
      "source": [
        "path = \"final-dataset-automobiles\"\n",
        "for folder in os.listdir(path):\n",
        "  for img_file in os.listdir(os.path.join(path,folder)):\n",
        "    img_file = os.path.join(path,folder,img_file)\n",
        "    try:\n",
        "      img = Image.open(img_file)\n",
        "      if img.mode!='RGB':\n",
        "        os.remove(img_file)\n",
        "        print(img_file)\n",
        "    except:\n",
        "      print(img_file)\n",
        "      os.remove(img_file)"
      ],
      "execution_count": null,
      "outputs": []
    },
    {
      "cell_type": "code",
      "metadata": {
        "id": "CbkzPUQqhN7k"
      },
      "source": [
        "transform = transforms.Compose([\n",
        "                                transforms.Resize(255),\n",
        "                                transforms.CenterCrop(224),\n",
        "                                transforms.ToTensor(),\n",
        "                                transforms.Normalize([0.5],[0.5])\n",
        "                              ])\n",
        "# transform2 = transforms.Compose([\n",
        "#                                 transforms.Resize(255),\n",
        "#                                 transforms.CenterCrop(224),\n",
        "#                                 transforms.ToTensor(),\n",
        "#                                 transforms.Normalize([0.5],[0.5]),\n",
        "#                                 transforms.RandomRotation((0,180))\n",
        "# ])"
      ],
      "execution_count": null,
      "outputs": []
    },
    {
      "cell_type": "code",
      "metadata": {
        "colab": {
          "base_uri": "https://localhost:8080/"
        },
        "id": "BArcAY9EhWz-",
        "outputId": "0dc50239-7b63-4a3b-8074-6edb4e5c9ebd"
      },
      "source": [
        "dataset = datasets.ImageFolder('final-dataset-automobiles',transform=transform)\n",
        "# dataset2 = datasets.ImageFolder('final-dataset-automobiles',transform=transform2)\n",
        "dataset_len = len(dataset)\n",
        "dataset_len"
      ],
      "execution_count": null,
      "outputs": [
        {
          "output_type": "execute_result",
          "data": {
            "text/plain": [
              "5109"
            ]
          },
          "metadata": {
            "tags": []
          },
          "execution_count": 25
        }
      ]
    },
    {
      "cell_type": "code",
      "metadata": {
        "colab": {
          "base_uri": "https://localhost:8080/"
        },
        "id": "n1Z2_J6whwdi",
        "outputId": "514ef9ad-4fe4-4200-fefe-e9d8e6f9d2b5"
      },
      "source": [
        "train_len,test_len = dataset_len - 1000,1000\n",
        "train_set,test_set = torch.utils.data.random_split(dataset,[train_len,test_len],generator=torch.Generator().manual_seed(30))\n",
        "batch_size = 16\n",
        "train_set = DataLoader(dataset=train_set,shuffle=True,batch_size=batch_size)\n",
        "test_set = DataLoader(dataset=test_set,shuffle=True,batch_size=batch_size)\n",
        "\n",
        "device = torch.device('cuda' if torch.cuda.is_available() else 'cpu')\n",
        "print('Using Device: ', device)"
      ],
      "execution_count": null,
      "outputs": [
        {
          "output_type": "stream",
          "text": [
            "Using Device:  cpu\n"
          ],
          "name": "stdout"
        }
      ]
    },
    {
      "cell_type": "code",
      "metadata": {
        "id": "FG8dpaPnxmZ8"
      },
      "source": [
        "root=pathlib.Path('/content/final-dataset-automobiles')\n",
        "classes=sorted([j.name.split('/')[-1] for j in root.iterdir()])"
      ],
      "execution_count": null,
      "outputs": []
    },
    {
      "cell_type": "code",
      "metadata": {
        "colab": {
          "base_uri": "https://localhost:8080/"
        },
        "id": "8TqtilBBx6Dj",
        "outputId": "ddd66b66-fe38-45d3-96ba-de4b9813f272"
      },
      "source": [
        "classes"
      ],
      "execution_count": null,
      "outputs": [
        {
          "output_type": "execute_result",
          "data": {
            "text/plain": [
              "['2nd Row Left Side Seat Armrest',\n",
              " '2nd Row Right Side Seat Armrest',\n",
              " '2nd Row Seat Belt (L)',\n",
              " '2nd Row Seat Belt (R)',\n",
              " '2nd Row Seat Belt Buckle Right',\n",
              " 'AUX - USB Socket',\n",
              " 'Accelerator Pedal',\n",
              " 'Accessory Socket (Centre Console)',\n",
              " 'Accessory Socket (Dash Board)',\n",
              " 'Accessory Socket (Inside Armrest)',\n",
              " 'Accessory socket location (luggage compartment)',\n",
              " 'Air Cleaner',\n",
              " 'Airbag Label',\n",
              " 'Audio System',\n",
              " 'Bill - Coin Holder',\n",
              " 'Brake - Clutch Fluid Reservoir',\n",
              " 'Brake Pedal',\n",
              " 'Centre Outlet (L)',\n",
              " 'Centre Outlet (R)',\n",
              " 'Child-Proof Locks (Rear L)',\n",
              " 'Child-Proof Locks (Rear R)',\n",
              " 'Coolant Reservoir',\n",
              " 'Courtesy Lights (Duplicate)',\n",
              " 'Door Locks (Driver side - O)',\n",
              " 'Door Locks (Front Passenger side - I)',\n",
              " 'Door Locks (Front Passenger side - O)',\n",
              " 'Door Locks (Rear Left)',\n",
              " 'Door Locks (Rear Right)',\n",
              " 'Driver Door Switch',\n",
              " 'Driver Side Defroster Outlet',\n",
              " 'Driver Side Outlet',\n",
              " 'Driver Side Seat Belt Buckle',\n",
              " 'Engine Hood Latch',\n",
              " 'Engine Oil Filler Cap',\n",
              " 'Front Dome Light',\n",
              " 'Second Row Seat Belt Buckle (Left)',\n",
              " 'Sound System']"
            ]
          },
          "metadata": {
            "tags": []
          },
          "execution_count": 28
        }
      ]
    },
    {
      "cell_type": "code",
      "metadata": {
        "colab": {
          "base_uri": "https://localhost:8080/"
        },
        "id": "YKq6-rwox5st",
        "outputId": "227099de-82aa-4bf6-ed9a-c551d2cd2b65"
      },
      "source": [
        "len(classes)"
      ],
      "execution_count": null,
      "outputs": [
        {
          "output_type": "execute_result",
          "data": {
            "text/plain": [
              "37"
            ]
          },
          "metadata": {
            "tags": []
          },
          "execution_count": 59
        }
      ]
    },
    {
      "cell_type": "code",
      "metadata": {
        "id": "P0DPA0fciSh4"
      },
      "source": [
        "model = models.resnet18(pretrained=True)"
      ],
      "execution_count": null,
      "outputs": []
    },
    {
      "cell_type": "code",
      "metadata": {
        "id": "sEv3GPH_icRE"
      },
      "source": [
        "for param in model.parameters(): \n",
        "  param.requires_grid = False \n",
        "  model.fc = torch.nn.Linear(in_features=512,out_features=len(classes),bias=True) \n",
        "  model = model.to(device)"
      ],
      "execution_count": null,
      "outputs": []
    },
    {
      "cell_type": "code",
      "metadata": {
        "colab": {
          "base_uri": "https://localhost:8080/"
        },
        "id": "MdUpyVg4gDTk",
        "outputId": "1dd5526f-994d-4510-f894-68b457e36364"
      },
      "source": [
        "list(model.parameters())[0].shape"
      ],
      "execution_count": null,
      "outputs": [
        {
          "output_type": "execute_result",
          "data": {
            "text/plain": [
              "torch.Size([64, 3, 7, 7])"
            ]
          },
          "metadata": {
            "tags": []
          },
          "execution_count": 74
        }
      ]
    },
    {
      "cell_type": "code",
      "metadata": {
        "id": "epuEqYaCikWT"
      },
      "source": [
        "criterion = nn.CrossEntropyLoss()\n",
        "optimizer = optim.Adam(model.parameters(),lr=1E-06,weight_decay=10e-5)"
      ],
      "execution_count": null,
      "outputs": []
    },
    {
      "cell_type": "code",
      "metadata": {
        "colab": {
          "base_uri": "https://localhost:8080/",
          "height": 406,
          "referenced_widgets": [
            "88266577d0294360875106510ea669f3",
            "70911ac3102c4f989b01d96c1131a75e",
            "38d6a74cc4304f1e9f8295ddb2153708",
            "323bd1ebc1eb4a5b8ba8d9061200da53",
            "03ae035ff5634f7a843f670a47f0f704",
            "853259b43a2b4da184974913bed531e0",
            "a330d21e002b4ee2968cbe9402425e7f",
            "c10e6f3ab27e4c95ad8f36d3a230f3d6"
          ]
        },
        "id": "L9_JZ4RlislX",
        "outputId": "15352c4b-de28-4acf-a55c-c81d410ae91e"
      },
      "source": [
        "lr_finder = LRFinder(model, optimizer, criterion, device=\"cuda\")\n",
        "lr_finder.range_test(train_set, end_lr=100, num_iter=100)\n",
        "lr_finder.plot() # to inspect the loss-learning rate graph\n",
        "lr_finder.reset()"
      ],
      "execution_count": null,
      "outputs": [
        {
          "output_type": "display_data",
          "data": {
            "application/vnd.jupyter.widget-view+json": {
              "model_id": "88266577d0294360875106510ea669f3",
              "version_minor": 0,
              "version_major": 2
            },
            "text/plain": [
              "HBox(children=(FloatProgress(value=0.0), HTML(value='')))"
            ]
          },
          "metadata": {
            "tags": []
          }
        },
        {
          "output_type": "error",
          "ename": "KeyboardInterrupt",
          "evalue": "ignored",
          "traceback": [
            "\u001b[0;31m---------------------------------------------------------------------------\u001b[0m",
            "\u001b[0;31mKeyboardInterrupt\u001b[0m                         Traceback (most recent call last)",
            "\u001b[0;32m<ipython-input-72-7a994bf10f6a>\u001b[0m in \u001b[0;36m<module>\u001b[0;34m()\u001b[0m\n\u001b[1;32m      1\u001b[0m \u001b[0mlr_finder\u001b[0m \u001b[0;34m=\u001b[0m \u001b[0mLRFinder\u001b[0m\u001b[0;34m(\u001b[0m\u001b[0mmodel\u001b[0m\u001b[0;34m,\u001b[0m \u001b[0moptimizer\u001b[0m\u001b[0;34m,\u001b[0m \u001b[0mcriterion\u001b[0m\u001b[0;34m,\u001b[0m \u001b[0mdevice\u001b[0m\u001b[0;34m=\u001b[0m\u001b[0;34m\"cuda\"\u001b[0m\u001b[0;34m)\u001b[0m\u001b[0;34m\u001b[0m\u001b[0;34m\u001b[0m\u001b[0m\n\u001b[0;32m----> 2\u001b[0;31m \u001b[0mlr_finder\u001b[0m\u001b[0;34m.\u001b[0m\u001b[0mrange_test\u001b[0m\u001b[0;34m(\u001b[0m\u001b[0mtrain_set\u001b[0m\u001b[0;34m,\u001b[0m \u001b[0mend_lr\u001b[0m\u001b[0;34m=\u001b[0m\u001b[0;36m100\u001b[0m\u001b[0;34m,\u001b[0m \u001b[0mnum_iter\u001b[0m\u001b[0;34m=\u001b[0m\u001b[0;36m100\u001b[0m\u001b[0;34m)\u001b[0m\u001b[0;34m\u001b[0m\u001b[0;34m\u001b[0m\u001b[0m\n\u001b[0m\u001b[1;32m      3\u001b[0m \u001b[0mlr_finder\u001b[0m\u001b[0;34m.\u001b[0m\u001b[0mplot\u001b[0m\u001b[0;34m(\u001b[0m\u001b[0;34m)\u001b[0m \u001b[0;31m# to inspect the loss-learning rate graph\u001b[0m\u001b[0;34m\u001b[0m\u001b[0;34m\u001b[0m\u001b[0m\n\u001b[1;32m      4\u001b[0m \u001b[0mlr_finder\u001b[0m\u001b[0;34m.\u001b[0m\u001b[0mreset\u001b[0m\u001b[0;34m(\u001b[0m\u001b[0;34m)\u001b[0m\u001b[0;34m\u001b[0m\u001b[0;34m\u001b[0m\u001b[0m\n",
            "\u001b[0;32m/usr/local/lib/python3.7/dist-packages/torch_lr_finder/lr_finder.py\u001b[0m in \u001b[0;36mrange_test\u001b[0;34m(self, train_loader, val_loader, start_lr, end_lr, num_iter, step_mode, smooth_f, diverge_th, accumulation_steps, non_blocking_transfer)\u001b[0m\n\u001b[1;32m    318\u001b[0m                 \u001b[0mtrain_iter\u001b[0m\u001b[0;34m,\u001b[0m\u001b[0;34m\u001b[0m\u001b[0;34m\u001b[0m\u001b[0m\n\u001b[1;32m    319\u001b[0m                 \u001b[0maccumulation_steps\u001b[0m\u001b[0;34m,\u001b[0m\u001b[0;34m\u001b[0m\u001b[0;34m\u001b[0m\u001b[0m\n\u001b[0;32m--> 320\u001b[0;31m                 \u001b[0mnon_blocking_transfer\u001b[0m\u001b[0;34m=\u001b[0m\u001b[0mnon_blocking_transfer\u001b[0m\u001b[0;34m,\u001b[0m\u001b[0;34m\u001b[0m\u001b[0;34m\u001b[0m\u001b[0m\n\u001b[0m\u001b[1;32m    321\u001b[0m             )\n\u001b[1;32m    322\u001b[0m             \u001b[0;32mif\u001b[0m \u001b[0mval_loader\u001b[0m\u001b[0;34m:\u001b[0m\u001b[0;34m\u001b[0m\u001b[0;34m\u001b[0m\u001b[0m\n",
            "\u001b[0;32m/usr/local/lib/python3.7/dist-packages/torch_lr_finder/lr_finder.py\u001b[0m in \u001b[0;36m_train_batch\u001b[0;34m(self, train_iter, accumulation_steps, non_blocking_transfer)\u001b[0m\n\u001b[1;32m    401\u001b[0m         \u001b[0mself\u001b[0m\u001b[0;34m.\u001b[0m\u001b[0moptimizer\u001b[0m\u001b[0;34m.\u001b[0m\u001b[0mstep\u001b[0m\u001b[0;34m(\u001b[0m\u001b[0;34m)\u001b[0m\u001b[0;34m\u001b[0m\u001b[0;34m\u001b[0m\u001b[0m\n\u001b[1;32m    402\u001b[0m \u001b[0;34m\u001b[0m\u001b[0m\n\u001b[0;32m--> 403\u001b[0;31m         \u001b[0;32mreturn\u001b[0m \u001b[0mtotal_loss\u001b[0m\u001b[0;34m.\u001b[0m\u001b[0mitem\u001b[0m\u001b[0;34m(\u001b[0m\u001b[0;34m)\u001b[0m\u001b[0;34m\u001b[0m\u001b[0;34m\u001b[0m\u001b[0m\n\u001b[0m\u001b[1;32m    404\u001b[0m \u001b[0;34m\u001b[0m\u001b[0m\n\u001b[1;32m    405\u001b[0m     \u001b[0;32mdef\u001b[0m \u001b[0m_move_to_device\u001b[0m\u001b[0;34m(\u001b[0m\u001b[0mself\u001b[0m\u001b[0;34m,\u001b[0m \u001b[0minputs\u001b[0m\u001b[0;34m,\u001b[0m \u001b[0mlabels\u001b[0m\u001b[0;34m,\u001b[0m \u001b[0mnon_blocking\u001b[0m\u001b[0;34m=\u001b[0m\u001b[0;32mTrue\u001b[0m\u001b[0;34m)\u001b[0m\u001b[0;34m:\u001b[0m\u001b[0;34m\u001b[0m\u001b[0;34m\u001b[0m\u001b[0m\n",
            "\u001b[0;31mKeyboardInterrupt\u001b[0m: "
          ]
        }
      ]
    },
    {
      "cell_type": "code",
      "metadata": {
        "colab": {
          "base_uri": "https://localhost:8080/"
        },
        "id": "LIEWj2dzz_iX",
        "outputId": "276e4232-fde3-4350-dfdd-ac04f8b3c8c1"
      },
      "source": [
        "model.train()\n",
        "for epoch in range(10):\n",
        "  total_correct = 0.0\n",
        "  running_loss = 0.0\n",
        "  for i,(inputs,labels) in enumerate(train_set):\n",
        "    inputs,labels = inputs.to(device),labels.to(device)\n",
        "    output = model(inputs)\n",
        "    output_idx = torch.argmax(output,dim=1)\n",
        "    total_correct+=(labels == output_idx).sum().item()\n",
        "    optimizer.zero_grad()\n",
        "    loss = criterion(output,labels)\n",
        "    running_loss+= loss.item()*inputs.size(0)\n",
        "    loss.backward()\n",
        "    optimizer.step()\n",
        "  print(f'Epoch: {epoch} Loss = {running_loss/train_len} Accuracy:{(total_correct/train_len)*100}%')"
      ],
      "execution_count": null,
      "outputs": [
        {
          "output_type": "stream",
          "text": [
            "Epoch: 0 Loss = 0.0319056120889484 Accuracy:98.02871744950109%\n",
            "Epoch: 1 Loss = 0.03097016066466915 Accuracy:98.07739109272329%\n",
            "Epoch: 2 Loss = 0.031618422888678104 Accuracy:98.15040155755659%\n",
            "Epoch: 3 Loss = 0.030655521929493442 Accuracy:98.32075930883427%\n",
            "Epoch: 4 Loss = 0.030471837309448208 Accuracy:98.24774884400097%\n",
            "Epoch: 5 Loss = 0.030099852725475426 Accuracy:98.46678023850085%\n",
            "Epoch: 6 Loss = 0.031041271127823875 Accuracy:98.27208566561208%\n",
            "Epoch: 7 Loss = 0.03044112562422905 Accuracy:98.22341202238988%\n",
            "Epoch: 8 Loss = 0.0307496782559081 Accuracy:98.17473837916768%\n",
            "Epoch: 9 Loss = 0.030572845015097314 Accuracy:98.07739109272329%\n"
          ],
          "name": "stdout"
        }
      ]
    },
    {
      "cell_type": "code",
      "metadata": {
        "colab": {
          "base_uri": "https://localhost:8080/"
        },
        "id": "woRotZQV3dww",
        "outputId": "e8edb929-a46c-4790-ec98-bc7911496420"
      },
      "source": [
        "with torch.no_grad():\n",
        "  model.eval()\n",
        "  total_loss = 0.0\n",
        "  total_correct = 0.0\n",
        "  for inputs,labels in test_set:\n",
        "    labels = labels.to(device)\n",
        "    outputs = model(inputs.to(device))\n",
        "    loss = criterion(outputs,labels)\n",
        "    total_loss = loss.item() * inputs.size(0)\n",
        "    output_idx = torch.argmax(outputs,dim=1)\n",
        "    total_correct+=sum(labels == output_idx)\n",
        "print(f'Loss = {running_loss/test_len} Accuracy:{(total_correct/test_len)*100}%')"
      ],
      "execution_count": null,
      "outputs": [
        {
          "output_type": "stream",
          "text": [
            "Loss = 0.12562382016703486 Accuracy:95.50000762939453%\n"
          ],
          "name": "stdout"
        }
      ]
    },
    {
      "cell_type": "code",
      "metadata": {
        "id": "tHcexiSq9It-"
      },
      "source": [
        "torch.save(model.state_dict(),'drive/MyDrive/auto-170epoch-new.pt')"
      ],
      "execution_count": null,
      "outputs": []
    },
    {
      "cell_type": "code",
      "metadata": {
        "id": "PoUUOc_n9PPu",
        "colab": {
          "base_uri": "https://localhost:8080/"
        },
        "outputId": "cce7d8d0-6582-4d37-f583-12379deb50bb"
      },
      "source": [
        "import numpy as np\n",
        "import torch\n",
        "from torchvision import models,transforms\n",
        "import matplotlib.pyplot as plt\n",
        "import os\n",
        "import cv2\n",
        "from PIL import Image\n",
        "labels = ['2nd Row Left Side Seat Armrest','2nd Row Right Side Seat Armrest','2nd Row Seat Belt (L)',\n",
        " '2nd Row Seat Belt (R)',\n",
        " '2nd Row Seat Belt Buckle Right',\n",
        " 'AUX - USB Socket',\n",
        " 'Accelerator Pedal',\n",
        " 'Accessory Socket (Centre Console)',\n",
        " 'Accessory Socket (Dash Board)',\n",
        " 'Accessory Socket (Inside Armrest)',\n",
        " 'Accessory socket location (luggage compartment)',\n",
        " 'Air Cleaner',\n",
        " 'Airbag Label',\n",
        " 'Audio System',\n",
        " 'Bill - Coin Holder',\n",
        " 'Brake - Clutch Fluid Reservoir',\n",
        " 'Brake Pedal',\n",
        " 'Centre Outlet (L)',\n",
        " 'Centre Outlet (R)',\n",
        " 'Child-Proof Locks (Rear L)',\n",
        " 'Child-Proof Locks (Rear R)',\n",
        " 'Coolant Reservoir',\n",
        " 'Courtesy Lights (Duplicate)',\n",
        " 'Door Locks (Driver side - O)',\n",
        " 'Door Locks (Front Passenger side - I)',\n",
        " 'Door Locks (Front Passenger side - O)',\n",
        " 'Door Locks (Rear Left)',\n",
        " 'Door Locks (Rear Right)',\n",
        " 'Driver Door Switch',\n",
        " 'Driver Side Defroster Outlet',\n",
        " 'Driver Side Outlet',\n",
        " 'Driver Side Seat Belt Buckle',\n",
        " 'Engine Hood Latch',\n",
        " 'Engine Oil Filler Cap',\n",
        " 'Front Dome Light',\n",
        " 'Second Row Seat Belt Buckle (Left)',\n",
        " 'Sound System']\n",
        "model_path = '/content/drive/MyDrive/auto.pt'\n",
        "img_file_path = '/content/final-dataset-automobiles/Courtesy Lights (Duplicate)/20210629_123227-resized.jpg'\n",
        "transform = transforms.Compose([transforms.CenterCrop(224),transforms.ToTensor()])\n",
        "model = models.resnet18()\n",
        "print (len(labels))\n",
        "model.fc = torch.nn.Linear(in_features=512,out_features=len(labels),bias=True)\n",
        "model.load_state_dict(torch.load(model_path,map_location=torch.device('cpu')))\n",
        "model.eval()\n",
        "img = Image.open(img_file_path)\n",
        "img = transform(img)\n",
        "prediction = model(img.unsqueeze(0))\n",
        "print(prediction)\n",
        "result = torch.argmax(prediction)\n",
        "print(result)\n",
        "print(f'This is a {labels[result]}')"
      ],
      "execution_count": null,
      "outputs": [
        {
          "output_type": "stream",
          "text": [
            "37\n",
            "tensor([[-1.4972, -2.1163, -1.2768, -2.6181, -0.6688, -1.2867, -0.6133, -0.7445,\n",
            "         -1.3571, -0.6131, -1.5266, -1.8204, -1.2371, -0.0123, -0.8968, -2.1421,\n",
            "         -2.9173,  1.2454, -2.1740, -0.7510, -2.2874, -1.0214,  6.8698, -0.3277,\n",
            "         -2.1850, -1.9870, -1.0510, -1.3311, -2.0658, -2.7467, -1.3517, -2.3081,\n",
            "         -1.5043, -2.7032,  3.0109, -2.0962, -2.8809]],\n",
            "       grad_fn=<AddmmBackward>)\n",
            "tensor(22)\n",
            "This is a Courtesy Lights (Duplicate)\n"
          ],
          "name": "stdout"
        },
        {
          "output_type": "stream",
          "text": [
            "/usr/local/lib/python3.7/dist-packages/torch/nn/functional.py:718: UserWarning: Named tensors and all their associated APIs are an experimental feature and subject to change. Please do not use them for anything important until they are released as stable. (Triggered internally at  /pytorch/c10/core/TensorImpl.h:1156.)\n",
            "  return torch.max_pool2d(input, kernel_size, stride, padding, dilation, ceil_mode)\n"
          ],
          "name": "stderr"
        }
      ]
    },
    {
      "cell_type": "code",
      "metadata": {
        "id": "jnp91klMvzc5"
      },
      "source": [
        "import torch\n",
        "from torchvision import models"
      ],
      "execution_count": null,
      "outputs": []
    },
    {
      "cell_type": "code",
      "metadata": {
        "id": "vEVtrg26v7nL",
        "colab": {
          "base_uri": "https://localhost:8080/"
        },
        "outputId": "d61e5fe8-e2e2-486d-d069-6a05695263c1"
      },
      "source": [
        "!pip install onnx\n",
        "!pip install onnxruntime"
      ],
      "execution_count": null,
      "outputs": [
        {
          "output_type": "stream",
          "text": [
            "Collecting onnx\n",
            "  Downloading onnx-1.9.0-cp37-cp37m-manylinux2010_x86_64.whl (12.2 MB)\n",
            "\u001b[K     |████████████████████████████████| 12.2 MB 241 kB/s \n",
            "\u001b[?25hRequirement already satisfied: protobuf in /usr/local/lib/python3.7/dist-packages (from onnx) (3.17.3)\n",
            "Requirement already satisfied: six in /usr/local/lib/python3.7/dist-packages (from onnx) (1.15.0)\n",
            "Requirement already satisfied: typing-extensions>=3.6.2.1 in /usr/local/lib/python3.7/dist-packages (from onnx) (3.7.4.3)\n",
            "Requirement already satisfied: numpy>=1.16.6 in /usr/local/lib/python3.7/dist-packages (from onnx) (1.19.5)\n",
            "Installing collected packages: onnx\n",
            "Successfully installed onnx-1.9.0\n",
            "Collecting onnxruntime\n",
            "  Downloading onnxruntime-1.8.1-cp37-cp37m-manylinux_2_17_x86_64.manylinux2014_x86_64.whl (4.5 MB)\n",
            "\u001b[K     |████████████████████████████████| 4.5 MB 7.5 MB/s \n",
            "\u001b[?25hRequirement already satisfied: numpy>=1.16.6 in /usr/local/lib/python3.7/dist-packages (from onnxruntime) (1.19.5)\n",
            "Requirement already satisfied: protobuf in /usr/local/lib/python3.7/dist-packages (from onnxruntime) (3.17.3)\n",
            "Requirement already satisfied: flatbuffers in /usr/local/lib/python3.7/dist-packages (from onnxruntime) (1.12)\n",
            "Requirement already satisfied: six>=1.9 in /usr/local/lib/python3.7/dist-packages (from protobuf->onnxruntime) (1.15.0)\n",
            "Installing collected packages: onnxruntime\n",
            "Successfully installed onnxruntime-1.8.1\n"
          ],
          "name": "stdout"
        }
      ]
    },
    {
      "cell_type": "code",
      "metadata": {
        "id": "8HtpJBExzSXK"
      },
      "source": [
        "pt_model = models.resnet18()\n",
        "pt_model.fc = torch.nn.Linear(in_features=512,out_features=37,bias=True)\n",
        "pt_model.load_state_dict(torch.load('/content/drive/MyDrive/auto-170epoch-new.pt',map_location=torch.device('cpu')))\n",
        "\n",
        "dummy_input = torch.randn(64,3,224,224,device='cpu')\n",
        "torch.onnx.export(pt_model,               # model being run\n",
        "                  dummy_input,                         # model input (or a tuple for multiple inputs)\n",
        "                  \"/content/drive/MyDrive/auto-170new.onnx\",   # where to save the model (can be a file or file-like object)\n",
        "                  export_params=True,        # store the trained parameter weights inside the model file\n",
        "                  opset_version=8,          # the ONNX version to export the model to\n",
        "                  do_constant_folding=True,  # whether to execute constant folding for optimization\n",
        "                  input_names = ['input'],   # the model's input names\n",
        "                  output_names = ['output'], # the model's output names\n",
        "                  dynamic_axes={'input' : {0 : 'batch_size'},    # variable length axes\n",
        "                                'output' : {0 : 'batch_size'}})"
      ],
      "execution_count": null,
      "outputs": []
    },
    {
      "cell_type": "code",
      "metadata": {
        "id": "i3eQkwlj0EJD"
      },
      "source": [
        "import numpy\n",
        "import onnxruntime\n",
        "import onnx"
      ],
      "execution_count": null,
      "outputs": []
    },
    {
      "cell_type": "code",
      "metadata": {
        "id": "NFoS9eSH0Hrz"
      },
      "source": [
        "ort_session = onnxruntime.InferenceSession(\"/content/drive/MyDrive/auto-170new.onnx\")\n",
        "def to_numpy(tensor):\n",
        "    return tensor.detach().cpu().numpy() if tensor.requires_grad else tensor.cpu().numpy()"
      ],
      "execution_count": null,
      "outputs": []
    },
    {
      "cell_type": "code",
      "metadata": {
        "id": "oJqUPu6-3X8W",
        "colab": {
          "base_uri": "https://localhost:8080/"
        },
        "outputId": "4c53d36a-3485-4c5a-f795-d4ac92c7ab2b"
      },
      "source": [
        "img_file_path = '/content/final-dataset-automobiles/2nd Row Seat Belt (R)/20210615_135808-resized.jpg'\n",
        "transform = transforms.Compose([transforms.CenterCrop(224),transforms.ToTensor()])\n",
        "img = Image.open(img_file_path)\n",
        "print(np.asarray(img))\n",
        "img = transform(img)\n",
        "img = img.unsqueeze(0)\n",
        "print(img.shape)\n",
        "ort_inputs = {ort_session.get_inputs()[0].name: to_numpy(img)}\n",
        "ort_outs = ort_session.run(None, ort_inputs)[0]"
      ],
      "execution_count": null,
      "outputs": [
        {
          "output_type": "stream",
          "text": [
            "[[[ 52  58  56]\n",
            "  [ 60  66  64]\n",
            "  [ 71  77  75]\n",
            "  ...\n",
            "  [118 120 119]\n",
            "  [115 117 116]\n",
            "  [119 121 120]]\n",
            "\n",
            " [[ 45  51  49]\n",
            "  [ 50  56  54]\n",
            "  [ 57  63  61]\n",
            "  ...\n",
            "  [117 119 118]\n",
            "  [123 125 124]\n",
            "  [121 123 122]]\n",
            "\n",
            " [[ 44  50  50]\n",
            "  [ 46  52  52]\n",
            "  [ 48  54  54]\n",
            "  ...\n",
            "  [108 110 109]\n",
            "  [120 122 121]\n",
            "  [113 115 114]]\n",
            "\n",
            " ...\n",
            "\n",
            " [[ 55  59  58]\n",
            "  [ 60  64  63]\n",
            "  [ 60  64  63]\n",
            "  ...\n",
            "  [105 127 148]\n",
            "  [104 126 147]\n",
            "  [103 125 148]]\n",
            "\n",
            " [[ 56  60  59]\n",
            "  [ 58  62  61]\n",
            "  [ 57  61  60]\n",
            "  ...\n",
            "  [101 123 144]\n",
            "  [ 99 124 146]\n",
            "  [ 98 123 145]]\n",
            "\n",
            " [[ 55  59  58]\n",
            "  [ 54  58  57]\n",
            "  [ 52  56  55]\n",
            "  ...\n",
            "  [ 97 119 142]\n",
            "  [ 94 119 141]\n",
            "  [ 93 118 140]]]\n",
            "torch.Size([1, 3, 224, 224])\n"
          ],
          "name": "stdout"
        }
      ]
    },
    {
      "cell_type": "code",
      "metadata": {
        "id": "kuChIFmb4rwo",
        "colab": {
          "base_uri": "https://localhost:8080/"
        },
        "outputId": "7964c40b-59f4-4230-adaf-ecd0b4ffb81d"
      },
      "source": [
        "np.argmax(ort_outs)"
      ],
      "execution_count": null,
      "outputs": [
        {
          "output_type": "execute_result",
          "data": {
            "text/plain": [
              "3"
            ]
          },
          "metadata": {
            "tags": []
          },
          "execution_count": 33
        }
      ]
    }
  ]
}
